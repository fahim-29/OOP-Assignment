{
 "cells": [
  {
   "cell_type": "code",
   "execution_count": null,
   "id": "74694c6e-4e9d-4235-8441-8b32602b7044",
   "metadata": {},
   "outputs": [],
   "source": []
  },
  {
   "cell_type": "markdown",
   "id": "91ef8da4-046a-4567-aa0c-07fd18acf58f",
   "metadata": {},
   "source": [
    "### Name            : Fahim Ahmad\n",
    "### Assignment      : OOPS Assignment\n",
    "###  Date            : May, 31, 2025"
   ]
  },
  {
   "cell_type": "code",
   "execution_count": null,
   "id": "8167e93b-a544-4ee9-bd7e-10d0efd13035",
   "metadata": {},
   "outputs": [],
   "source": []
  },
  {
   "cell_type": "markdown",
   "id": "e1f144e2-a1cb-47cf-bc3a-07397fe52d1a",
   "metadata": {},
   "source": [
    "# Python OOPs Questions"
   ]
  },
  {
   "cell_type": "markdown",
   "id": "bca530e9",
   "metadata": {},
   "source": [
    "### 1. What is Object-Oriented Programming (OOP) ?\n"
   ]
  },
  {
   "cell_type": "markdown",
   "id": "1a2af301",
   "metadata": {},
   "source": [
    "- **OOPs** (Object-Oriented Programming System) in Python is a programming paradigm that uses the concept of objects and classes to design and organize code. It helps structure programs so that properties and behaviors are bundled into individual objects"
   ]
  },
  {
   "cell_type": "markdown",
   "id": "0743502f",
   "metadata": {},
   "source": [
    "### 2. What is a class in OOP?"
   ]
  },
  {
   "cell_type": "markdown",
   "id": "2dfd2dcd",
   "metadata": {},
   "source": [
    "- A **class** is a blueprint or template for creating objects. It defines attributes (data) and methods (functions) that the objects created from the class will have.\n",
    "- **Example**"
   ]
  },
  {
   "cell_type": "code",
   "execution_count": 745,
   "id": "dec9a2cf",
   "metadata": {},
   "outputs": [],
   "source": [
    "class Car:\n",
    "    def __init__(self, color, brand):\n",
    "        self.color = color\n",
    "        self.brand = brand\n",
    "        \n",
    "    def driving(self):\n",
    "        print(f'The {self.color} color {self.brand} is driving')"
   ]
  },
  {
   "cell_type": "markdown",
   "id": "12fa0393",
   "metadata": {},
   "source": [
    "- Car is the class.\n",
    "- It has attributes brand and color.\n",
    "- It has a method drive().\n",
    "\n"
   ]
  },
  {
   "cell_type": "markdown",
   "id": "7c620815",
   "metadata": {},
   "source": [
    "### 3. What is an object in OOP+"
   ]
  },
  {
   "cell_type": "markdown",
   "id": "6d59d268",
   "metadata": {},
   "source": [
    "- An **object** is an instance of a class. It is a specific \"real-world\" entity created using the class blueprint.\n",
    "\n",
    "- **Example**"
   ]
  },
  {
   "cell_type": "code",
   "execution_count": 750,
   "id": "f53be862",
   "metadata": {},
   "outputs": [
    {
     "name": "stdout",
     "output_type": "stream",
     "text": [
      "The Red color Tesla is driving\n"
     ]
    }
   ],
   "source": [
    "# my_car is an object of the Car class\n",
    "\n",
    "# It has its own values for brand and color\n",
    "\n",
    "\n",
    "\n",
    "my_car = Car(\"Red\", \"Tesla\")\n",
    "my_car.driving()\n"
   ]
  },
  {
   "cell_type": "markdown",
   "id": "3d751253",
   "metadata": {},
   "source": []
  },
  {
   "cell_type": "markdown",
   "id": "94b03997",
   "metadata": {},
   "source": [
    "### 4.  What is the difference between abstraction and encapsulation+"
   ]
  },
  {
   "cell_type": "markdown",
   "id": "a83c3dd3",
   "metadata": {},
   "source": [
    "- **Abstraction** is the process of hiding implementation details and showing only essential features of an object.\n",
    "- Focus on what an object does, not how it does it.\n",
    "- Reduce complexity by ignoring irrelevant details."
   ]
  },
  {
   "cell_type": "markdown",
   "id": "f658969b",
   "metadata": {},
   "source": [
    "- **Encapsulation** is the concept of binding data and methods together and restricting direct access to some components.\n",
    "- Protect internal object state.\n",
    "- Control how attributes are accessed or modified"
   ]
  },
  {
   "cell_type": "code",
   "execution_count": 752,
   "id": "e64422b8",
   "metadata": {},
   "outputs": [],
   "source": [
    "class Account:\n",
    "    def __init__(self, balance):\n",
    "        self.__balance = balance  # private attribute\n",
    "\n",
    "    def get_balance(self):\n",
    "        return self.__balance\n",
    "\n",
    "    def deposit(self, amount):\n",
    "        if amount > 0:\n",
    "            self.__balance += amount\n"
   ]
  },
  {
   "cell_type": "markdown",
   "id": "587fabe2",
   "metadata": {},
   "source": [
    "- **__balance** is hidden (private).\n",
    "- Access and modification are only allowed through methods like get_balance() or deposit().\n",
    "\n"
   ]
  },
  {
   "cell_type": "markdown",
   "id": "520f1d3b",
   "metadata": {},
   "source": [
    "### 5. What are dunder methods in Python+"
   ]
  },
  {
   "cell_type": "markdown",
   "id": "0dc8e67e",
   "metadata": {},
   "source": [
    "- These methods are also called **magic methods** and are used to define how objects behave with built-in operations (like printing, adding, comparing, etc.).\n",
    "- **Dunder** methods (short for \"double underscore\" methods) in Python are special methods that start and end with double underscores, like __init__, __str__, __len__, etc.\n"
   ]
  },
  {
   "cell_type": "code",
   "execution_count": null,
   "id": "afbbf7c4",
   "metadata": {},
   "outputs": [],
   "source": []
  },
  {
   "cell_type": "markdown",
   "id": "77f85b9c",
   "metadata": {},
   "source": [
    "### 6. Explain the concept of inheritance in OOP"
   ]
  },
  {
   "cell_type": "markdown",
   "id": "8d2a6a76",
   "metadata": {},
   "source": [
    "- **Inheritance** is a fundamental concept in OOP that allows a class (called the child or derived class) to inherit properties and behaviors (methods and attributes) from another class (called the parent or base class).\n",
    "\n",
    "- **Code Reusability**: You don’t have to rewrite the same code in multiple classes.\n",
    "- **Extensibility:** You can add or override functionality in the child class.\n",
    "- **Organized Code**: Keeps code cleaner and follows a logical structure."
   ]
  },
  {
   "cell_type": "code",
   "execution_count": null,
   "id": "d50a3014",
   "metadata": {},
   "outputs": [],
   "source": []
  },
  {
   "cell_type": "markdown",
   "id": "e35748f9",
   "metadata": {},
   "source": [
    "### 7.  What is polymorphism in OOP+"
   ]
  },
  {
   "cell_type": "markdown",
   "id": "ccefb5d4",
   "metadata": {},
   "source": [
    "- **polymorphism** allows the same method name to behave differently for different classes.It is about using the same method name across multiple classes.\n",
    "\n",
    "**Example**\n"
   ]
  },
  {
   "cell_type": "code",
   "execution_count": 777,
   "id": "62f34c0a",
   "metadata": {},
   "outputs": [
    {
     "name": "stdout",
     "output_type": "stream",
     "text": [
      "Boo!\n",
      "Dhoo!\n"
     ]
    }
   ],
   "source": [
    "class Dog:\n",
    "    def sound(self):\n",
    "        return \"Boo!\"\n",
    "    \n",
    "class Donkey:\n",
    "    \n",
    "    def sound(self):\n",
    "        return \"Dhoo!\"\n",
    "    \n",
    "def Aninal_sound(self):   # Polymorphism , here it is using same name method(Animal_sound) across multiple class(Dog and Donkey\n",
    "    return self.sound()\n",
    "\n",
    "    \n",
    "a = Dog()\n",
    "b = Donkey()\n",
    "\n",
    "print(Aninal_sound(a))\n",
    "print(Aninal_sound(b))"
   ]
  },
  {
   "cell_type": "code",
   "execution_count": null,
   "id": "fdb55bd2",
   "metadata": {},
   "outputs": [],
   "source": []
  },
  {
   "cell_type": "markdown",
   "id": "b2a0a24c",
   "metadata": {},
   "source": [
    "### 8. How is encapsulation achieved in Python?"
   ]
  },
  {
   "cell_type": "markdown",
   "id": "b14bd51f",
   "metadata": {},
   "source": [
    "- **Encapsulation** is the concept of hiding the internal state and behavior of an object and only allowing access through a well-defined interface (like methods). This protects data from unintended or harmful changes.\n",
    "- Python uses **underscores** in method and variable names to signal the intended level of access:\n",
    "\n",
    "- **Private Data Members:** Make attributes (variables) private or protected so they can't be accessed directly from outside the class.\n",
    " - **Single Underscore** (_) – Protected (by convention)\n",
    "When a method or variable is prefixed with a single underscore (e.g., _name), it indicates that it is a protected member. This is only a convention, not enforced by Python. It means:\n",
    "- It should not be accessed outside the class or subclass unless absolutely necessary.\n",
    "\n",
    "- It is still accessible, but signals “internal use only.”\n",
    "\n",
    "\n",
    "- **Double Underscore** (__) – Private (name mangled)\n",
    "When a method or variable is prefixed with double underscores (e.g., __balance), Python performs name mangling. The variable is internally renamed to _ClassName__attribute, which makes it harder (though not impossible) to access from outside.\n",
    "\n",
    "\n",
    "\n",
    "\n",
    "\n",
    "\n",
    "\n",
    "\n",
    "\n",
    "\n",
    "- **Public Getter and Setter Methods:** Create methods to read (get) or update (set) the values of private variables.\n",
    "- This allows validation or rules before changing data.\n",
    "\n",
    "- **Access Control:** - Users of the class interact with it through a public interface — not by directly accessing its internals.\n",
    "\n",
    "- This helps prevent bugs and unauthorized changes.\n",
    "\n",
    "\n"
   ]
  },
  {
   "cell_type": "code",
   "execution_count": 779,
   "id": "891fd726",
   "metadata": {},
   "outputs": [],
   "source": [
    "class Account:\n",
    "    def __init__(self, balance):\n",
    "        self.__balance = balance  # private attribute\n",
    "\n",
    "    def get_balance(self):\n",
    "        return self.__balance\n",
    "    \n",
    "# Accessing __balance directly will raise an error:"
   ]
  },
  {
   "cell_type": "code",
   "execution_count": null,
   "id": "eed06ff9",
   "metadata": {},
   "outputs": [],
   "source": []
  },
  {
   "cell_type": "markdown",
   "id": "bbc76c7f",
   "metadata": {},
   "source": [
    " ### 9. What is a constructor in Python?"
   ]
  },
  {
   "cell_type": "markdown",
   "id": "4ae680f4",
   "metadata": {},
   "source": [
    "- A constructor is a special method that is automatically called when a new object of a class is created. It is used to initialize the attributes (variables) of the class.\n",
    "\n"
   ]
  },
  {
   "cell_type": "code",
   "execution_count": 781,
   "id": "54e337a6",
   "metadata": {},
   "outputs": [],
   "source": [
    "class Person:\n",
    "    def __init__(self, name, age):  # __init__ stands for “initialize.”\n",
    "        self.name = name            # self refers to the current instance of the class.\n",
    "        self.age = age              # The parameters after self are used to pass values when the object is created.\n"
   ]
  },
  {
   "cell_type": "markdown",
   "id": "766f5d6f",
   "metadata": {},
   "source": [
    "### 10. What are class and static methods in Python"
   ]
  },
  {
   "cell_type": "markdown",
   "id": "453eee89",
   "metadata": {},
   "source": [
    "- A **class** method is a method that works with the class itself, not just an instance of the class.\n",
    "- In order to define a class method , Use the **@classmethod** decorator.\n",
    "\n",
    "- It has access to class variables and can modify class state.\n",
    "- It takes cls as the first parameter (not self).\n",
    "\n",
    "- #### static method\n",
    "- It behaves like a regular function, just grouped logically inside the class.\n",
    "\n",
    "- It does not take self or cls as a parameter.\n",
    "- Use the @staticmethod decorator.\n",
    "\n",
    "\n",
    "\n",
    "\n"
   ]
  },
  {
   "cell_type": "code",
   "execution_count": 785,
   "id": "d92e0ff3",
   "metadata": {},
   "outputs": [],
   "source": [
    "# clas method \n",
    "\n",
    "\n",
    "class MyClass:\n",
    "    count = 0\n",
    "\n",
    "    @classmethod\n",
    "    def increment_count(cls):\n",
    "        cls.count += 1\n"
   ]
  },
  {
   "cell_type": "code",
   "execution_count": 783,
   "id": "e116b1bb",
   "metadata": {},
   "outputs": [],
   "source": [
    "\n",
    "# Static Methiod\n",
    "\n",
    "class MathUtils:\n",
    "    \n",
    "    @staticmethod\n",
    "    def add(x, y):\n",
    "        return x + y\n"
   ]
  },
  {
   "cell_type": "markdown",
   "id": "c89b6fba-0b7b-495b-818d-286614b7e01e",
   "metadata": {},
   "source": [
    "\n",
    "### 11 What is method overloading in Python+\n"
   ]
  },
  {
   "cell_type": "markdown",
   "id": "464faa2a-3b94-4738-9e07-30a45ae936b0",
   "metadata": {},
   "source": [
    "- Method **overloading** in Python refers to the ability to define multiple methods with the same name but different parameters (number or type). However, Python does not support traditional method overloading as seen in languages like Java or C++. Instead, you can achieve similar behavior using:"
   ]
  },
  {
   "cell_type": "markdown",
   "id": "9f7abb55-3f45-4781-a068-30a1ce821b7b",
   "metadata": {},
   "source": [
    "### 12 What is method overriding in OOP?"
   ]
  },
  {
   "cell_type": "markdown",
   "id": "f968a1f4-7a6f-44c0-886b-7227ce2369ab",
   "metadata": {},
   "source": [
    "- Method **overriding** in Python is an object-oriented programming feature that allows a subclass to provide a specific implementation of a method that is already defined in its parent (superclass).\n",
    "\n",
    "- When a method in a child class has the same name, parameters, and functionality as in its parent class, the child’s method overrides the parent’s method.\n",
    "\n"
   ]
  },
  {
   "cell_type": "code",
   "execution_count": 2,
   "id": "da8a1909-0db9-411e-ab5e-9c3d7e7e3a2b",
   "metadata": {
    "tags": []
   },
   "outputs": [
    {
     "name": "stdout",
     "output_type": "stream",
     "text": [
      "Animal speaks\n",
      "Dog barks\n"
     ]
    }
   ],
   "source": [
    "class Animal:\n",
    "    def speak(self):\n",
    "        print(\"Animal speaks\")\n",
    "\n",
    "class Dog(Animal):\n",
    "    def speak(self):  # This overrides the speak method in Animal\n",
    "        print(\"Dog barks\")\n",
    "\n",
    "\n",
    "a = Animal()\n",
    "a.speak()  \n",
    "\n",
    "d = Dog()\n",
    "d.speak()  \n"
   ]
  },
  {
   "cell_type": "markdown",
   "id": "92254927-5c80-4232-8f1d-2f8c4b9da7bf",
   "metadata": {},
   "source": [
    "### 13  What is a property decorator in Python?"
   ]
  },
  {
   "cell_type": "markdown",
   "id": "26db4d4b-c492-48b4-939c-1b2ebba9a963",
   "metadata": {},
   "source": [
    "- The **@property decorator** in Python is used to define a method as a read-only attribute—meaning it lets you access a method like an attribute, without using parentheses.\n",
    "\n",
    "- It is part of Python’s built-in support for encapsulation and getter/setter functionality in a clean.\n",
    "- To control access to an attribute (e.g., make it read-only, computed, or validate it) while still accessing it like a normal attribute.\n",
    "\n"
   ]
  },
  {
   "cell_type": "markdown",
   "id": "3176b768-1e49-45b1-8ac9-1fe52c18e80b",
   "metadata": {},
   "source": [
    "### 14  Why is polymorphism important in OOP?"
   ]
  },
  {
   "cell_type": "markdown",
   "id": "a2a693bd-824f-47a8-8063-7f9cd4a49003",
   "metadata": {},
   "source": [
    "- **Polymorphism** means \"many forms\", and in programming (especially object-oriented programming), it allows different classes to be treated through a common interface, even though they may behave differently.\n",
    "- It allows the same method or operation to behave differently depending on the object it's acting on.\n",
    "\n"
   ]
  },
  {
   "cell_type": "code",
   "execution_count": 4,
   "id": "d899ebbe-fe77-420d-8ff6-97d32116a0b3",
   "metadata": {
    "tags": []
   },
   "outputs": [
    {
     "name": "stdout",
     "output_type": "stream",
     "text": [
      "Woof!\n",
      "Meow!\n"
     ]
    }
   ],
   "source": [
    "class Dog:\n",
    "    def speak(self):\n",
    "        return \"Woof!\"\n",
    "\n",
    "class Cat:\n",
    "    def speak(self):\n",
    "        return \"Meow!\"\n",
    "\n",
    "def animal_sound(animal):   # Even though dog and cat are different objects, they can be passed to the same function, and that function calls the correct speak() method depending on the type of object.\n",
    "\n",
    "\n",
    "    print(animal.speak())\n",
    "\n",
    "dog = Dog()\n",
    "cat = Cat()\n",
    "\n",
    "animal_sound(dog)  \n",
    "animal_sound(cat)  \n"
   ]
  },
  {
   "cell_type": "code",
   "execution_count": null,
   "id": "16333834-fbdc-4fa2-8e2a-7f4cf154552e",
   "metadata": {},
   "outputs": [],
   "source": []
  },
  {
   "cell_type": "markdown",
   "id": "81786120-76b8-438a-b3b4-ba543197c77b",
   "metadata": {},
   "source": [
    "### 15 What is an abstract class in Python?"
   ]
  },
  {
   "cell_type": "markdown",
   "id": "8e8ef285-f570-49ce-866f-fe69439acda1",
   "metadata": {},
   "source": [
    "- An **abstract** class in Python is a class that cannot be instantiated directly. It's meant to be a blueprint for other classes. It may contain abstract methods—methods that are declared but not implemented—forcing subclasses to implement them.\n",
    "\n",
    "- Abstract classes are useful when you want to ensure that certain methods must be implemented in any subclass.\n",
    "\n"
   ]
  },
  {
   "cell_type": "code",
   "execution_count": 5,
   "id": "fb09c93d-5025-4987-a4df-4e536f6b93f9",
   "metadata": {
    "tags": []
   },
   "outputs": [],
   "source": [
    "from abc import ABC, abstractmethod\n",
    "\n",
    "class Animal(ABC):  # Inherit from ABC to define an abstract class\n",
    "    @abstractmethod\n",
    "    def speak(self):\n",
    "        pass\n"
   ]
  },
  {
   "cell_type": "markdown",
   "id": "bdd6648c-32f3-4d8d-ba1b-d05597d87d9c",
   "metadata": {},
   "source": [
    "### 16 What are the advantages of OOP?"
   ]
  },
  {
   "cell_type": "markdown",
   "id": "7f260cb2-01d2-4adc-bd02-902e0c2fa59b",
   "metadata": {
    "tags": []
   },
   "source": [
    "- **Modularity**\tOrganized, manageable code in classes\n",
    "- **Reusability**\tInherit and extend existing code\n",
    "- **Encapsulation**\tProtect and hide internal object details\n",
    "- **Polymorphism**\tOne interface, many forms\n",
    "- **Abstraction**\tFocus on what an object does, not how\n",
    "- **Scalability**\tEasy to update and expand code\n",
    "- **Real-world mapping**\tMore intuitive and logical system design\n",
    "\n"
   ]
  },
  {
   "cell_type": "markdown",
   "id": "c66d758e-94ae-44fe-ab9d-2c218e2b19e0",
   "metadata": {},
   "source": [
    "### 17 What is the difference between a class variable and an instance variable?\n",
    "\n"
   ]
  },
  {
   "cell_type": "markdown",
   "id": "8fd14694-89fe-47f9-a39e-843dcb47bae7",
   "metadata": {},
   "source": [
    "#### class variable \n",
    "- A **class variable** is a variable that is shared by all instances of a class. \n",
    "- It is defined inside the class, but outside of any instance methods like __init__. Because it belongs to the class itself (not to individual objects),\n",
    "- All objects created from the class share the same value of that variable—unless specifically overridden.\n",
    "\n",
    "- Class variables are used when you want to store data that should be the same across all instances, such as a default value, a counter, or a configuration setting.\n",
    "\n",
    "#### instance variable \n",
    "\n",
    "- An **instance variable** is specific to each object (or instance) of a class.\n",
    "- It is usually defined inside the __init__ method using self. Each object you create from the class gets its own copy of the instance variables, so they can hold different values for different objects.\n",
    "\n",
    "- Instance variables are used to store data unique to each object, like a person’s name, the color of a car, or the balance in a bank account.\n",
    "\n",
    "\n"
   ]
  },
  {
   "cell_type": "code",
   "execution_count": 8,
   "id": "d91c285c-b111-48dd-9d6e-d1ef09951154",
   "metadata": {
    "tags": []
   },
   "outputs": [],
   "source": [
    "class Car:\n",
    "    # Class variable\n",
    "    wheels = 4  \n",
    "\n",
    "    def __init__(self, color):\n",
    "        # Instance variable\n",
    "        self.color = color\n",
    "\n"
   ]
  },
  {
   "cell_type": "markdown",
   "id": "45d809bb-b2dd-4483-9665-0380dba9b1b7",
   "metadata": {},
   "source": [
    "### 18 What is multiple inheritance in Python?"
   ]
  },
  {
   "cell_type": "markdown",
   "id": "f71cc97a-4b1a-4635-abad-301da7718df8",
   "metadata": {},
   "source": [
    "- A class that inherits properties and behaviors (methods) from more than one parent class.  -  - This allows the child class to combine functionalities from multiple sources.\n",
    "- Parent classes: Also called base classes or superclasses.\n",
    "- Child class: Also called derived class or subclass.\n",
    "- Multiple inheritance allows the child class to inherit from more than one parent class."
   ]
  },
  {
   "cell_type": "code",
   "execution_count": 9,
   "id": "008c3150-3069-4b56-b61d-956fe769f3e8",
   "metadata": {
    "tags": []
   },
   "outputs": [
    {
     "name": "stdout",
     "output_type": "stream",
     "text": [
      "Speaking as a person\n",
      "Working as an employee\n",
      "Managing the team\n"
     ]
    }
   ],
   "source": [
    "\n",
    "class Person:     # Parent class 1\n",
    "    def speak(self):\n",
    "        print(\"Speaking as a person\")\n",
    "\n",
    "\n",
    "class Employee:    # Parent class 2\n",
    "    def work(self):\n",
    "        print(\"Working as an employee\")\n",
    "\n",
    "\n",
    "class Manager(Person, Employee):   # Child class inherits from both Person and Employee\n",
    "    def manage(self):\n",
    "        print(\"Managing the team\")\n",
    "\n",
    "\n",
    "m = Manager()\n",
    "m.speak()   \n",
    "m.work()    \n",
    "m.manage()  \n"
   ]
  },
  {
   "cell_type": "markdown",
   "id": "479ebfec-cdb3-490e-a767-3979041089f9",
   "metadata": {},
   "source": [
    "### 19  Explain the purpose of ‘’__str__’ and ‘__repr__’ ‘ methods in Python?"
   ]
  },
  {
   "cell_type": "markdown",
   "id": "5d3d2bac-70ee-4676-8570-f8494bef278e",
   "metadata": {},
   "source": [
    "- __str__() and __repr__() are special methods used to define how objects are represented as strings. \n",
    "- They are especially useful for debugging and logging, and help improve how your objects display in printouts or interactive environments.\n",
    "\n",
    "- __str__() \n",
    "- Used by the print() function and str() to return a readable string representation of the object.\n",
    "\n",
    "- Should return a nicely formatted, readable description for end users.\n",
    "\n",
    "- __repr__()\n",
    "\n",
    "- Used by the interpreter (e.g., when you type a variable in the Python shell).\n",
    "\n",
    "- Should return a string that ideally resembles valid Python code used to recreate the object."
   ]
  },
  {
   "cell_type": "markdown",
   "id": "1d369060-2754-416d-9478-04818096b486",
   "metadata": {},
   "source": [
    "### 20 What is the significance of the ‘super()’ function in Python?\n",
    "\n",
    "\n",
    "\n",
    "\n"
   ]
  },
  {
   "cell_type": "markdown",
   "id": "a049e169-390e-4b3d-840d-ebf73c97fee7",
   "metadata": {},
   "source": [
    "- The **super()** function in Python is used to call a method from a parent (or superclass) in a child (or subclass). It's especially useful in inheritance where you want to extend or customize the behavior of a parent class without completely overriding it.\n",
    "\n"
   ]
  },
  {
   "cell_type": "markdown",
   "id": "ff2069b8-fb20-42ad-8389-91a54c9f12e2",
   "metadata": {},
   "source": [
    "\n",
    "### 21 What is the significance of the __del__ method in Python?"
   ]
  },
  {
   "cell_type": "markdown",
   "id": "e6b9676d-62e6-47c3-a079-ebe71e14dd2d",
   "metadata": {},
   "source": [
    "- The __del__ method in Python is a destructor method. It is called automatically when an object is about to be destroyed — typically when it is garbage collected and no longer in use.\n",
    "- To clean up resources (like closing files, releasing network connections, or freeing memory) when an object is no longer needed."
   ]
  },
  {
   "cell_type": "markdown",
   "id": "c002aeb5-156c-4254-a39a-c70a6e0ca09c",
   "metadata": {},
   "source": [
    "### 22 What is the difference between @staticmethod and @classmethod in Python?"
   ]
  },
  {
   "cell_type": "markdown",
   "id": "4d356be0-3521-4015-85d5-9a1f7c5c637e",
   "metadata": {},
   "source": [
    "- **staticmethod**\n",
    "- A method that does not access the class or instance.\n",
    "- Behaves like a plain function, but lives inside the class for organizational purposes.\n",
    "- No self or cls parameter.\n",
    "\n",
    "- **classmethod**\n",
    "- A method that receives the class (cls) as the first argument.\n",
    "- Can access or modify class-level attributes.\n",
    "- Useful for factory methods or when behavior depends on the class itself (not the instance).\n",
    "\n",
    "\n"
   ]
  },
  {
   "cell_type": "code",
   "execution_count": null,
   "id": "9b2bb43c-f1aa-4c24-ac7a-60f53f589e91",
   "metadata": {},
   "outputs": [],
   "source": []
  },
  {
   "cell_type": "code",
   "execution_count": 11,
   "id": "ebb8cb2d-8e93-4196-a30d-1bd973b7728d",
   "metadata": {
    "tags": []
   },
   "outputs": [
    {
     "name": "stdout",
     "output_type": "stream",
     "text": [
      "8\n"
     ]
    }
   ],
   "source": [
    "class Math:\n",
    "    @staticmethod\n",
    "    def add(x, y):\n",
    "        return x + y\n",
    "\n",
    "print(Math.add(5, 3))  # Output: 8\n"
   ]
  },
  {
   "cell_type": "code",
   "execution_count": 13,
   "id": "66b6f284-2e7a-47d9-a706-3e1afd49ecd3",
   "metadata": {
    "tags": []
   },
   "outputs": [
    {
     "name": "stdout",
     "output_type": "stream",
     "text": [
      "Fahim\n",
      "Human\n"
     ]
    }
   ],
   "source": [
    "class Person:\n",
    "    species = \"Human\"\n",
    "\n",
    "    def __init__(self, name):\n",
    "        self.name = name\n",
    "\n",
    "    @classmethod\n",
    "    def from_string(cls, name_str):\n",
    "        return cls(name_str)\n",
    "\n",
    "p = Person.from_string(\"Fahim\")\n",
    "print(p.name)          \n",
    "print(Person.species)  \n"
   ]
  },
  {
   "cell_type": "markdown",
   "id": "fcdddce6-e6f1-413c-934a-eb1ef0ca93e4",
   "metadata": {},
   "source": [
    "### 23 How does polymorphism work in Python with inheritance?"
   ]
  },
  {
   "cell_type": "markdown",
   "id": "14df7237-77e2-478c-a83d-caa6247d4db5",
   "metadata": {},
   "source": [
    "- **Polymorphism** means \"many forms\", and in programming (especially object-oriented programming), it allows different classes to be treated through a common interface, even though they may behave differently.\n",
    "- It allows the same method or operation to behave differently depending on the object it's acting on.\n",
    "\n"
   ]
  },
  {
   "cell_type": "code",
   "execution_count": 16,
   "id": "6123b680-745b-4643-8c68-a9ee54a11070",
   "metadata": {
    "tags": []
   },
   "outputs": [
    {
     "name": "stdout",
     "output_type": "stream",
     "text": [
      "Woof!\n",
      "Meow!\n"
     ]
    }
   ],
   "source": [
    "class Dog:\n",
    "    def speak(self):\n",
    "        return \"Woof!\"\n",
    "\n",
    "class Cat:\n",
    "    def speak(self):\n",
    "        return \"Meow!\"\n",
    "\n",
    "def animal_sound(animal):   # Even though dog and cat are different objects, they can be passed to the same function, and that function calls the correct speak() method depending on the type of object.\n",
    "\n",
    "\n",
    "    print(animal.speak())\n",
    "\n",
    "dog = Dog()\n",
    "cat = Cat()\n",
    "\n",
    "animal_sound(dog)  \n",
    "animal_sound(cat)  \n"
   ]
  },
  {
   "cell_type": "markdown",
   "id": "522a721b-71ec-49ac-976d-4d3e4be7ac9d",
   "metadata": {},
   "source": [
    "### 24 What is method chaining in Python OOP?"
   ]
  },
  {
   "cell_type": "markdown",
   "id": "dc859057-9c4a-44c0-ad25-847d5581626a",
   "metadata": {},
   "source": [
    "- **Method** chaining is a programming technique where multiple method calls are made in a single statement, one after another, using the dot (.) operator.\n",
    "\n",
    "- Each method returns the object itself (self), allowing another method to be called on the same object."
   ]
  },
  {
   "cell_type": "code",
   "execution_count": 18,
   "id": "d7946312-9f3b-4355-ba34-16931a054507",
   "metadata": {
    "tags": []
   },
   "outputs": [],
   "source": [
    "class Person:\n",
    "    def __init__(self):\n",
    "        self.name = \"\"\n",
    "        self.age = 0\n",
    "\n",
    "    def set_name(self, name):\n",
    "        self.name = name\n",
    "        return self  #  chaining\n",
    "\n",
    "    def set_age(self, age):\n",
    "        self.age = age\n",
    "        return self  #  chaining\n",
    "\n",
    "    def display(self):\n",
    "        print(f\"Name: {self.name}, Age: {self.age}\")\n",
    "        return self  # Optional chaining\n"
   ]
  },
  {
   "cell_type": "code",
   "execution_count": 27,
   "id": "d6aec162-7194-4d58-9e96-bc5b782617d6",
   "metadata": {
    "tags": []
   },
   "outputs": [
    {
     "name": "stdout",
     "output_type": "stream",
     "text": [
      "Name: Fahim, Age: 24\n"
     ]
    },
    {
     "data": {
      "text/plain": [
       "<__main__.Person at 0x11236cc10>"
      ]
     },
     "execution_count": 27,
     "metadata": {},
     "output_type": "execute_result"
    }
   ],
   "source": [
    "p = Person()\n",
    "p.set_name(\"Fahim\").set_age(24).display()\n"
   ]
  },
  {
   "cell_type": "markdown",
   "id": "8cbad0b0-5790-418a-9b40-25958f42e3dc",
   "metadata": {},
   "source": [
    "### 25 What is the purpose of the __call__ method in Python?"
   ]
  },
  {
   "cell_type": "markdown",
   "id": "572d3928-4858-4b06-a8a9-312352861196",
   "metadata": {},
   "source": [
    "- The __call__() method allows an instance of a class to be called like a function.\n",
    "- To make objects behave like functions.\n",
    "\n",
    "- Enables flexible and powerful design patterns (like function wrappers, decorators, or stateful functions).\n",
    "- Common in machine learning models, custom handlers, and API clients.\n",
    "\n"
   ]
  },
  {
   "cell_type": "code",
   "execution_count": null,
   "id": "5150e61b-a47e-4690-b700-9c2a8d697312",
   "metadata": {},
   "outputs": [],
   "source": []
  },
  {
   "cell_type": "markdown",
   "id": "0e433f46-b43a-4821-a296-fb858d3d8c9c",
   "metadata": {},
   "source": [
    "# Practical Questions"
   ]
  },
  {
   "cell_type": "code",
   "execution_count": null,
   "id": "bcb8ba73-9cf8-4edc-82c8-ad1eca9cca0a",
   "metadata": {},
   "outputs": [],
   "source": []
  },
  {
   "cell_type": "markdown",
   "id": "550edd6a",
   "metadata": {},
   "source": [
    "### 1. Create a parent class Animal with a method speak() that prints a generic message. Create a child class Dog that overrides the speak() method to print \"Bark!\""
   ]
  },
  {
   "cell_type": "code",
   "execution_count": 20,
   "id": "90960578",
   "metadata": {},
   "outputs": [
    {
     "name": "stdout",
     "output_type": "stream",
     "text": [
      "Dogs usually Bark!\n"
     ]
    }
   ],
   "source": [
    "\n",
    "class Animal :\n",
    "    def speak(self):\n",
    "        print(\"How does an animal sound like\")\n",
    "        \n",
    "class Dog(Animal) :\n",
    "    def speak(self) :\n",
    "        print(\"Dogs usually Bark!\")\n",
    "        \n",
    "        \n",
    "sound = Dog()\n",
    "sound.speak()\n",
    "    "
   ]
  },
  {
   "cell_type": "markdown",
   "id": "12eaf024",
   "metadata": {},
   "source": [
    "### 2. Write a program to create an abstract class Shape with a method area(). Derive classes Circle and Rectangle from it and implement the area() method in both."
   ]
  },
  {
   "cell_type": "code",
   "execution_count": 612,
   "id": "309d9aa9",
   "metadata": {},
   "outputs": [],
   "source": [
    "from abc import ABC, abstractmethod\n",
    "\n",
    "class Shape(ABC):  # Inheriting from ABC to make this an abstract class\n",
    "    \n",
    "    @abstractmethod\n",
    "    def area(self):\n",
    "        pass  # No implementation here, subclasses must implement this\n",
    "class Circle(Shape):\n",
    "    def __init__(self, radius):\n",
    "        self.radius = radius\n",
    "    def area(self):\n",
    "        return 3.14 * self.radius**2\n",
    "    \n",
    "class Rectangle(Shape):\n",
    "    def __init__(self, lenght, breadth):\n",
    "        self.lenght = lenght\n",
    "        self.breadth = breadth\n",
    "    def area(self):\n",
    "        return self.lenght * self.breadth"
   ]
  },
  {
   "cell_type": "code",
   "execution_count": 614,
   "id": "4e3b5622",
   "metadata": {},
   "outputs": [
    {
     "data": {
      "text/plain": [
       "48"
      ]
     },
     "execution_count": 614,
     "metadata": {},
     "output_type": "execute_result"
    }
   ],
   "source": [
    "b = Rectangle(12,4)        \n",
    "b.area()"
   ]
  },
  {
   "cell_type": "code",
   "execution_count": 610,
   "id": "0341fa71",
   "metadata": {},
   "outputs": [],
   "source": [
    "a = Circle(2)"
   ]
  },
  {
   "cell_type": "code",
   "execution_count": 611,
   "id": "35fe54be",
   "metadata": {},
   "outputs": [
    {
     "data": {
      "text/plain": [
       "12.56"
      ]
     },
     "execution_count": 611,
     "metadata": {},
     "output_type": "execute_result"
    }
   ],
   "source": [
    "a.area()"
   ]
  },
  {
   "cell_type": "code",
   "execution_count": null,
   "id": "f37f2d27",
   "metadata": {},
   "outputs": [],
   "source": []
  },
  {
   "cell_type": "markdown",
   "id": "17857f65",
   "metadata": {},
   "source": [
    "### 3. Implement a multi-level inheritance scenario where a class Vehicle has an attribute type. Derive a class Car and further derive a class ElectricCar that adds a battery attribute."
   ]
  },
  {
   "cell_type": "code",
   "execution_count": 41,
   "id": "2b0c6580",
   "metadata": {},
   "outputs": [],
   "source": [
    "class Vehicle :\n",
    "    def __init__(self, type) :\n",
    "        self.type = type\n",
    "        \n",
    "class Car(Vehicle) :\n",
    "    def __init__(self, type, brand) :\n",
    "        super().__init__(type)\n",
    "        self.brand = brand\n",
    "        \n",
    "class ElectricCar(Car) :\n",
    "    def __init__(self, type, brand, battery) :\n",
    "        super().__init__(type, brand)\n",
    "        self.battery = battery\n",
    "        \n",
    "    def details(self) :\n",
    "        return self.type, self.brand, self.battery"
   ]
  },
  {
   "cell_type": "code",
   "execution_count": 51,
   "id": "299b320e",
   "metadata": {},
   "outputs": [],
   "source": [
    "info = ElectricCar('E- Car', 'Tata', 21)"
   ]
  },
  {
   "cell_type": "code",
   "execution_count": 57,
   "id": "38b3c8c5",
   "metadata": {},
   "outputs": [
    {
     "name": "stdout",
     "output_type": "stream",
     "text": [
      "('E- Car', 'Tata', 21)\n",
      "E- Car\n",
      "Tata\n",
      "21\n"
     ]
    }
   ],
   "source": [
    "print(info.details())\n",
    "print(info.type)\n",
    "print(info.brand)\n",
    "print(info.battery)"
   ]
  },
  {
   "cell_type": "markdown",
   "id": "c9c198b6",
   "metadata": {},
   "source": [
    "### 4. Demonstrate polymorphism by creating a base class Bird with a method fly(). Create two derived classes Sparrow and Penguin that override the fly() method.\n",
    "\n"
   ]
  },
  {
   "cell_type": "code",
   "execution_count": 72,
   "id": "9bbe598e",
   "metadata": {},
   "outputs": [
    {
     "name": "stdout",
     "output_type": "stream",
     "text": [
      "Fly fast\n",
      "Swims insted of flying\n"
     ]
    }
   ],
   "source": [
    "class Bird:\n",
    "    def fly(self) :\n",
    "        print('Generic way of moving from one palce to another')\n",
    "        \n",
    "class Sparrow(Bird) :\n",
    "    def fly(self) :\n",
    "        print('Fly fast')\n",
    "        \n",
    "class Pengiun(Bird) :\n",
    "    def fly(self) :\n",
    "        print(\"Swims insted of flying\")\n",
    "        \n",
    "Animals  = [ Sparrow(), Pengiun()]\n",
    "for i in Animals:\n",
    "    i.fly()      \n",
    "        "
   ]
  },
  {
   "cell_type": "markdown",
   "id": "5aba14cf",
   "metadata": {},
   "source": [
    "### 5. Write a program to demonstrate encapsulation by creating a class BankAccount with private attributes  balance and methods to deposit, withdraw, and check balance."
   ]
  },
  {
   "cell_type": "code",
   "execution_count": null,
   "id": "e91a70ff",
   "metadata": {},
   "outputs": [],
   "source": []
  },
  {
   "cell_type": "code",
   "execution_count": 616,
   "id": "2de9970c",
   "metadata": {},
   "outputs": [],
   "source": [
    "class BankAccount :\n",
    "    \n",
    "    def __init__(self, balance):\n",
    "        self.__balance = balance\n",
    "        \n",
    "    def deposit(self, d_amount):\n",
    "        if d_amount > 0:\n",
    "            self.__balance = self.__balance + d_amount\n",
    "            print(f\" Deposited amount is {d_amount}\")\n",
    "        else:\n",
    "            print('deposit amount cannot be zero or lesser')\n",
    "            \n",
    "    def Withdraw(self, amount) :\n",
    "        if amount > 0 and self.__balance > amount:\n",
    "            \n",
    "            self.__balance = self.__balance - amount\n",
    "            print(f\"Withdrawl amount is {amount}\")\n",
    "        else: \n",
    "            print('Please enter the correct amount')\n",
    "            \n",
    "    \n",
    "    def check_balance(self):\n",
    "        return self.__balance\n",
    "       "
   ]
  },
  {
   "cell_type": "code",
   "execution_count": 617,
   "id": "49dbda46",
   "metadata": {},
   "outputs": [],
   "source": [
    "a = BankAccount(1100)"
   ]
  },
  {
   "cell_type": "code",
   "execution_count": 618,
   "id": "f1e36e43",
   "metadata": {},
   "outputs": [
    {
     "data": {
      "text/plain": [
       "1100"
      ]
     },
     "execution_count": 618,
     "metadata": {},
     "output_type": "execute_result"
    }
   ],
   "source": [
    "a.check_balance()"
   ]
  },
  {
   "cell_type": "code",
   "execution_count": 619,
   "id": "84b5c4ab",
   "metadata": {},
   "outputs": [
    {
     "name": "stdout",
     "output_type": "stream",
     "text": [
      " Deposited amount is 100\n"
     ]
    }
   ],
   "source": [
    "a.deposit(100)"
   ]
  },
  {
   "cell_type": "code",
   "execution_count": 620,
   "id": "4162c5c5",
   "metadata": {},
   "outputs": [
    {
     "data": {
      "text/plain": [
       "1200"
      ]
     },
     "execution_count": 620,
     "metadata": {},
     "output_type": "execute_result"
    }
   ],
   "source": [
    "a.check_balance()"
   ]
  },
  {
   "cell_type": "code",
   "execution_count": 621,
   "id": "461797e1",
   "metadata": {},
   "outputs": [
    {
     "name": "stdout",
     "output_type": "stream",
     "text": [
      "Withdrawl amount is 500\n"
     ]
    }
   ],
   "source": [
    "a.Withdraw(500)"
   ]
  },
  {
   "cell_type": "code",
   "execution_count": 622,
   "id": "2a6a7bd2",
   "metadata": {},
   "outputs": [
    {
     "data": {
      "text/plain": [
       "700"
      ]
     },
     "execution_count": 622,
     "metadata": {},
     "output_type": "execute_result"
    }
   ],
   "source": [
    "a.check_balance()"
   ]
  },
  {
   "cell_type": "code",
   "execution_count": 623,
   "id": "2344d910",
   "metadata": {},
   "outputs": [
    {
     "name": "stdout",
     "output_type": "stream",
     "text": [
      "Please enter the correct amount\n"
     ]
    }
   ],
   "source": [
    "a.Withdraw(0)"
   ]
  },
  {
   "cell_type": "markdown",
   "id": "d941b601",
   "metadata": {},
   "source": [
    "### 6. Demonstrate runtime polymorphism using a method play() in a base class Instrument. Derive classes Guitar and Piano that implement their own version of play()."
   ]
  },
  {
   "cell_type": "code",
   "execution_count": 625,
   "id": "eae521af",
   "metadata": {},
   "outputs": [],
   "source": [
    "class Instrument:\n",
    "    def play(self):\n",
    "        pass\n",
    "    \n",
    "class Guitar(Instrument):\n",
    "    def play(self):\n",
    "        print('Playing guitar')\n",
    "        \n",
    "class Piano(Instrument):\n",
    "    def play(self):\n",
    "        print('Playing piano')"
   ]
  },
  {
   "cell_type": "code",
   "execution_count": 644,
   "id": "56811dd3",
   "metadata": {},
   "outputs": [
    {
     "name": "stdout",
     "output_type": "stream",
     "text": [
      "Playing piano\n"
     ]
    }
   ],
   "source": [
    "b = Piano()\n",
    "b.play()"
   ]
  },
  {
   "cell_type": "code",
   "execution_count": 668,
   "id": "1bfd85ed",
   "metadata": {},
   "outputs": [
    {
     "name": "stdout",
     "output_type": "stream",
     "text": [
      "Playing guitar\n"
     ]
    }
   ],
   "source": [
    "a = Guitar()\n",
    "a.play()"
   ]
  },
  {
   "cell_type": "markdown",
   "id": "f16fbb70",
   "metadata": {},
   "source": [
    "### 7. Create a class MathOperations with a class method add_numbers() to add two numbers and a static method subtract_numbers() to subtract two numbers."
   ]
  },
  {
   "cell_type": "code",
   "execution_count": 705,
   "id": "a09e2bd2",
   "metadata": {},
   "outputs": [],
   "source": [
    "class MathOperations:\n",
    "    \n",
    "    @classmethod\n",
    "    def add_numbers(cls,x,y):\n",
    "        return x+y\n",
    "    \n",
    "    @staticmethod\n",
    "    def substract_numbers(x, y):\n",
    "        return x-y"
   ]
  },
  {
   "cell_type": "code",
   "execution_count": 707,
   "id": "941a5ef8",
   "metadata": {},
   "outputs": [
    {
     "data": {
      "text/plain": [
       "7"
      ]
     },
     "execution_count": 707,
     "metadata": {},
     "output_type": "execute_result"
    }
   ],
   "source": [
    "MathOperations.add_numbers(2,5)"
   ]
  },
  {
   "cell_type": "code",
   "execution_count": 709,
   "id": "7a0faa90",
   "metadata": {},
   "outputs": [
    {
     "data": {
      "text/plain": [
       "2"
      ]
     },
     "execution_count": 709,
     "metadata": {},
     "output_type": "execute_result"
    }
   ],
   "source": [
    "MathOperations.substract_numbers(7, 5)"
   ]
  },
  {
   "cell_type": "markdown",
   "id": "dfb9d6d4",
   "metadata": {},
   "source": [
    "### 8. Implement a class Person with a class method to count the total number of persons created"
   ]
  },
  {
   "cell_type": "code",
   "execution_count": 733,
   "id": "f1125d71",
   "metadata": {},
   "outputs": [],
   "source": [
    "class Person:\n",
    "    count = 0\n",
    "    def __init__(self, name):\n",
    "        self.name = name\n",
    "        Person.count =Person.count + 1\n",
    "        \n",
    "    @classmethod\n",
    "    def total_no_person(cls):\n",
    "        return cls.count\n",
    "        \n",
    "    "
   ]
  },
  {
   "cell_type": "code",
   "execution_count": 734,
   "id": "87fcd1ee",
   "metadata": {},
   "outputs": [],
   "source": [
    "a= Person('Fahim')\n",
    "b = Person(\"Gaeh\")"
   ]
  },
  {
   "cell_type": "code",
   "execution_count": 738,
   "id": "4e09654d",
   "metadata": {},
   "outputs": [
    {
     "data": {
      "text/plain": [
       "2"
      ]
     },
     "execution_count": 738,
     "metadata": {},
     "output_type": "execute_result"
    }
   ],
   "source": [
    "Person.total_no_person()"
   ]
  },
  {
   "cell_type": "code",
   "execution_count": 741,
   "id": "bd69b0e1",
   "metadata": {},
   "outputs": [
    {
     "data": {
      "text/plain": [
       "2"
      ]
     },
     "execution_count": 741,
     "metadata": {},
     "output_type": "execute_result"
    }
   ],
   "source": [
    "a.total_no_person()"
   ]
  },
  {
   "cell_type": "markdown",
   "id": "e22066ec",
   "metadata": {},
   "source": [
    "### 9. Write a class Fraction with attributes numerator and denominator. Override the str method to display the fraction as \"numerator/denominator\".\n",
    "\n",
    "\n"
   ]
  },
  {
   "cell_type": "code",
   "execution_count": 28,
   "id": "99e3f3c2",
   "metadata": {
    "tags": []
   },
   "outputs": [],
   "source": [
    "class Fraction:\n",
    "    def __init__(self, numerator, denominator):\n",
    "        self.numerator = numerator\n",
    "        self.denominator = denominator\n",
    "\n",
    "    def __str__(self):\n",
    "        return f\"{self.numerator}/{self.denominator}\"\n"
   ]
  },
  {
   "cell_type": "code",
   "execution_count": 30,
   "id": "a41258eb",
   "metadata": {
    "tags": []
   },
   "outputs": [
    {
     "name": "stdout",
     "output_type": "stream",
     "text": [
      "3/4\n",
      "5/1\n"
     ]
    }
   ],
   "source": [
    "f1 = Fraction(3, 4)\n",
    "print(f1)         \n",
    "\n",
    "f2 = Fraction(5, 1)\n",
    "print(str(f2)) \n"
   ]
  },
  {
   "cell_type": "code",
   "execution_count": null,
   "id": "f19eefb5",
   "metadata": {},
   "outputs": [],
   "source": []
  },
  {
   "cell_type": "code",
   "execution_count": null,
   "id": "5c29af63",
   "metadata": {},
   "outputs": [],
   "source": []
  },
  {
   "cell_type": "markdown",
   "id": "ffefec1f",
   "metadata": {},
   "source": [
    "### 10. Demonstrate operator overloading by creating a class Vector and overriding the add method to add two vectors."
   ]
  },
  {
   "cell_type": "code",
   "execution_count": 31,
   "id": "c5bcd096",
   "metadata": {
    "tags": []
   },
   "outputs": [],
   "source": [
    "class Vector:\n",
    "    def __init__(self, x, y):\n",
    "        self.x = x\n",
    "        self.y = y\n",
    "\n",
    "    def __add__(self, other):\n",
    "        if isinstance(other, Vector):\n",
    "            return Vector(self.x + other.x, self.y + other.y)\n",
    "        return NotImplemented\n",
    "\n",
    "    def __str__(self):\n",
    "        return f\"Vector({self.x}, {self.y})\"\n"
   ]
  },
  {
   "cell_type": "code",
   "execution_count": 33,
   "id": "b255040d",
   "metadata": {
    "tags": []
   },
   "outputs": [
    {
     "name": "stdout",
     "output_type": "stream",
     "text": [
      "Vector(2, 3)\n",
      "Vector(4, 1)\n",
      "Vector(6, 4)\n"
     ]
    }
   ],
   "source": [
    "v1 = Vector(2, 3)\n",
    "v2 = Vector(4, 1)\n",
    "v3 = v1 + v2  # Uses __add__\n",
    "\n",
    "print(v1)  \n",
    "print(v2)  \n",
    "print(v3) \n"
   ]
  },
  {
   "cell_type": "code",
   "execution_count": null,
   "id": "fd4faf08",
   "metadata": {},
   "outputs": [],
   "source": []
  },
  {
   "cell_type": "code",
   "execution_count": null,
   "id": "6b470592",
   "metadata": {},
   "outputs": [],
   "source": []
  },
  {
   "cell_type": "markdown",
   "id": "a07d6545",
   "metadata": {},
   "source": [
    "### 11. Create a class Person with attributes name and age. Add a method greet() that prints \"Hello, my name is {name} and I am {age} years old.\"\n",
    "\n"
   ]
  },
  {
   "cell_type": "code",
   "execution_count": 377,
   "id": "f56a072a",
   "metadata": {},
   "outputs": [
    {
     "name": "stdout",
     "output_type": "stream",
     "text": [
      " Hello my name is Fahim Ahmad and I am 24 years old\n"
     ]
    }
   ],
   "source": [
    "class Person :\n",
    "    \n",
    "    def __init__(self, name, age):\n",
    "        self.name = name\n",
    "        self.age =age\n",
    "        \n",
    "    def greet(self):\n",
    "        print(f' Hello my name is {self.name} and I am {self.age} years old')\n",
    "        \n",
    "b = Person('Fahim Ahmad', 24)\n",
    "b.greet()"
   ]
  },
  {
   "cell_type": "markdown",
   "id": "def596d4",
   "metadata": {},
   "source": [
    "### 12. Implement a class Student with attributes name and grades. Create a method average_grade() to compute the average of the grades."
   ]
  },
  {
   "cell_type": "code",
   "execution_count": 661,
   "id": "4549cee1",
   "metadata": {},
   "outputs": [],
   "source": [
    "class Student:\n",
    "    \n",
    "    def __init__(self, name, grades):\n",
    "        self.name = name\n",
    "        self.grades = grades\n",
    "        \n",
    "    def average_grade(self):\n",
    "        a = sum(self.grades)/ len(self.grades)\n",
    "        return f'The average grade of a student {self.name} is', a\n",
    "        \n",
    "        "
   ]
  },
  {
   "cell_type": "code",
   "execution_count": 663,
   "id": "78564d24",
   "metadata": {},
   "outputs": [],
   "source": [
    "a = Student('Fahim',[70,55,60])"
   ]
  },
  {
   "cell_type": "code",
   "execution_count": 664,
   "id": "76fb7bdb",
   "metadata": {},
   "outputs": [
    {
     "data": {
      "text/plain": [
       "('The average grade of a student Fahim is', 61.666666666666664)"
      ]
     },
     "execution_count": 664,
     "metadata": {},
     "output_type": "execute_result"
    }
   ],
   "source": [
    "a.average_grade()"
   ]
  },
  {
   "cell_type": "markdown",
   "id": "e0f6e67a",
   "metadata": {},
   "source": [
    "### 13. Create a class Rectangle with methods set_dimensions() to set the dimensions and area() to calculate the area.\n",
    "\n",
    "\n"
   ]
  },
  {
   "cell_type": "code",
   "execution_count": 666,
   "id": "cf350d8e",
   "metadata": {},
   "outputs": [],
   "source": [
    "class Rectangle :\n",
    "    \n",
    "    def __init__(self):\n",
    "        self.lenght = 0\n",
    "        self.breadth = 0\n",
    "        \n",
    "    def set_dimension(self, lenght, breadth):\n",
    "        self.lenght = lenght\n",
    "        self.breadth = breadth\n",
    "      \n",
    "    def area(self):\n",
    "        Area = self.breadth * self.lenght\n",
    "        return Area\n",
    "    \n"
   ]
  },
  {
   "cell_type": "code",
   "execution_count": 667,
   "id": "7b7eaa46",
   "metadata": {},
   "outputs": [
    {
     "data": {
      "text/plain": [
       "88"
      ]
     },
     "execution_count": 667,
     "metadata": {},
     "output_type": "execute_result"
    }
   ],
   "source": [
    "ar = Rectangle()\n",
    "ar.set_dimension(11,8)\n",
    "ar.area()"
   ]
  },
  {
   "cell_type": "code",
   "execution_count": null,
   "id": "c526259b",
   "metadata": {},
   "outputs": [],
   "source": []
  },
  {
   "cell_type": "markdown",
   "id": "0dfae9b0",
   "metadata": {},
   "source": [
    "### 14. Create a class Employee with a method calculate_salary() that computes the salary based on hours worked and hourly rate. Create a derived class Manager that adds a bonus to the salary"
   ]
  },
  {
   "cell_type": "code",
   "execution_count": 576,
   "id": "ac3bf60d",
   "metadata": {},
   "outputs": [],
   "source": [
    "class Employee :\n",
    "    \n",
    "    def __init__(self, hours_worked, hourly_rate):\n",
    "        self.hours_worked = hours_worked\n",
    "        self.hourly_rate = hourly_rate\n",
    "        \n",
    "    def calculate_salary(self):\n",
    "        return self.hours_worked * self.hourly_rate\n",
    "    \n",
    "class Manager(Employee):\n",
    "    \n",
    "    def __init__(self, hours_worked, hourly_rate, bonus):\n",
    "        super().__init__(hours_worked, hourly_rate)\n",
    "        self.bonus = bonus\n",
    "        \n",
    "    def calculate_salary_with_bonus(self):\n",
    "        return super().calculate_salary() + self.bonus\n",
    "    \n"
   ]
  },
  {
   "cell_type": "code",
   "execution_count": 577,
   "id": "12fe8df0",
   "metadata": {},
   "outputs": [],
   "source": [
    "fahim = Manager(7,10,100)"
   ]
  },
  {
   "cell_type": "code",
   "execution_count": 578,
   "id": "11ac35b8",
   "metadata": {},
   "outputs": [
    {
     "data": {
      "text/plain": [
       "100"
      ]
     },
     "execution_count": 578,
     "metadata": {},
     "output_type": "execute_result"
    }
   ],
   "source": [
    "fahim.bonus"
   ]
  },
  {
   "cell_type": "code",
   "execution_count": 580,
   "id": "b8336ea2",
   "metadata": {},
   "outputs": [
    {
     "data": {
      "text/plain": [
       "70"
      ]
     },
     "execution_count": 580,
     "metadata": {},
     "output_type": "execute_result"
    }
   ],
   "source": [
    "fahim.calculate_salary()"
   ]
  },
  {
   "cell_type": "code",
   "execution_count": 581,
   "id": "49b415fc",
   "metadata": {},
   "outputs": [
    {
     "data": {
      "text/plain": [
       "170"
      ]
     },
     "execution_count": 581,
     "metadata": {},
     "output_type": "execute_result"
    }
   ],
   "source": [
    "fahim.calculate_salary_with_bonus()"
   ]
  },
  {
   "cell_type": "code",
   "execution_count": null,
   "id": "7f02be06",
   "metadata": {},
   "outputs": [],
   "source": []
  },
  {
   "cell_type": "markdown",
   "id": "b6371844",
   "metadata": {},
   "source": [
    "### 15. Create a class Product with attributes name, price, and quantity. Implement a method total_price() that calculates the total price of the product"
   ]
  },
  {
   "cell_type": "code",
   "execution_count": 306,
   "id": "fb7172a1",
   "metadata": {},
   "outputs": [],
   "source": [
    "class Product:\n",
    "    \n",
    "    def __init__(self, name, price, quantity):\n",
    "        self.name = name\n",
    "        self.price = price\n",
    "        self.quantity = quantity\n",
    "        \n",
    "    def total_price(self):\n",
    "        return f'Total price of product {self.name} :',self.price * self.quantity"
   ]
  },
  {
   "cell_type": "code",
   "execution_count": 308,
   "id": "fdb61420",
   "metadata": {},
   "outputs": [
    {
     "data": {
      "text/plain": [
       "('Total price of product Metal Straw :', 15.0)"
      ]
     },
     "execution_count": 308,
     "metadata": {},
     "output_type": "execute_result"
    }
   ],
   "source": [
    "p = Product('Metal Straw',7.50,2)\n",
    "p.total_price()"
   ]
  },
  {
   "cell_type": "markdown",
   "id": "d8f335c9",
   "metadata": {},
   "source": []
  },
  {
   "cell_type": "markdown",
   "id": "28b0988f",
   "metadata": {},
   "source": [
    "### 16. Create a class Animal with an abstract method sound(). Create two derived classes Cow and Sheep that implement the sound() method."
   ]
  },
  {
   "cell_type": "code",
   "execution_count": 656,
   "id": "d02d0d8b",
   "metadata": {},
   "outputs": [],
   "source": [
    "class Animal:\n",
    "    def sound(self):\n",
    "        print(\"How do animals sound\")\n",
    "        \n",
    "class Cow(Animal):\n",
    "    def sound(self):\n",
    "        print(\"The cow makes booo sound\")\n",
    "        \n",
    "class Sheep(Animal):\n",
    "    def sound(self):\n",
    "        print(\"Sheep makes maeee sound\")"
   ]
  },
  {
   "cell_type": "code",
   "execution_count": 657,
   "id": "7691d44a",
   "metadata": {},
   "outputs": [
    {
     "name": "stdout",
     "output_type": "stream",
     "text": [
      "How do animals sound\n"
     ]
    }
   ],
   "source": [
    "a = Animal()\n",
    "a.sound()"
   ]
  },
  {
   "cell_type": "code",
   "execution_count": 659,
   "id": "03a55abb",
   "metadata": {},
   "outputs": [
    {
     "name": "stdout",
     "output_type": "stream",
     "text": [
      "The cow makes booo sound\n"
     ]
    }
   ],
   "source": [
    "b = Cow()\n",
    "b.sound()"
   ]
  },
  {
   "cell_type": "code",
   "execution_count": 660,
   "id": "80e34386",
   "metadata": {},
   "outputs": [
    {
     "name": "stdout",
     "output_type": "stream",
     "text": [
      "Sheep makes maeee sound\n"
     ]
    }
   ],
   "source": [
    "c = Sheep()\n",
    "c.sound()"
   ]
  },
  {
   "cell_type": "markdown",
   "id": "e931a143",
   "metadata": {},
   "source": [
    "### 17. Create a class Book with attributes title, author, and year_published. Add a method get_book_info() that returns a formatted string with the book's details."
   ]
  },
  {
   "cell_type": "code",
   "execution_count": 263,
   "id": "de4ac4f2",
   "metadata": {},
   "outputs": [],
   "source": [
    "class Book :\n",
    "    \n",
    "    def __init__(self, title, author, year_published):\n",
    "        self.title = title\n",
    "        self.author = author\n",
    "        self.year_published = year_published\n",
    "        \n",
    "    def get_book_info(self):\n",
    "        return(f'Title: {self.title}, Author: {self.author}, Year Published: {self.year_published}')"
   ]
  },
  {
   "cell_type": "code",
   "execution_count": 264,
   "id": "8874dbb1",
   "metadata": {},
   "outputs": [],
   "source": [
    "info = Book(\"The Hundred\", \"Michael Hurt\", 2002)"
   ]
  },
  {
   "cell_type": "code",
   "execution_count": 265,
   "id": "5184c6aa",
   "metadata": {},
   "outputs": [
    {
     "data": {
      "text/plain": [
       "'Title: The Hundred, Author: Michael Hurt, Year Published: 2002'"
      ]
     },
     "execution_count": 265,
     "metadata": {},
     "output_type": "execute_result"
    }
   ],
   "source": [
    "info.get_book_info()"
   ]
  },
  {
   "cell_type": "code",
   "execution_count": null,
   "id": "0cdcc260",
   "metadata": {},
   "outputs": [],
   "source": []
  },
  {
   "cell_type": "markdown",
   "id": "623e90d3",
   "metadata": {},
   "source": [
    "### 18. Create a class House with attributes address and price. Create a derived class Mansion that adds an attribute number_of_rooms."
   ]
  },
  {
   "cell_type": "code",
   "execution_count": 279,
   "id": "31bb0884",
   "metadata": {},
   "outputs": [],
   "source": [
    "class House :\n",
    "    \n",
    "    def __init__(self, address, price) :\n",
    "        self.address = address\n",
    "        self.price = price\n",
    "        \n",
    "        \n",
    "class Mansion(House):\n",
    "    def __init__(self, address, price, number_of_rooms):\n",
    "        super().__init__(address, price)\n",
    "        self.number_of_rooms = number_of_rooms\n",
    "        \n",
    "    def get_details(self):\n",
    "        return self.address, self.price, self.number_of_rooms\n",
    "        \n",
    "     "
   ]
  },
  {
   "cell_type": "code",
   "execution_count": 280,
   "id": "b1106d8c",
   "metadata": {},
   "outputs": [],
   "source": [
    "info = Mansion('Mumbai', \"$120k\", 3)"
   ]
  },
  {
   "cell_type": "code",
   "execution_count": 284,
   "id": "323365f2",
   "metadata": {},
   "outputs": [
    {
     "data": {
      "text/plain": [
       "'Mumbai'"
      ]
     },
     "execution_count": 284,
     "metadata": {},
     "output_type": "execute_result"
    }
   ],
   "source": [
    "info.address"
   ]
  },
  {
   "cell_type": "code",
   "execution_count": 285,
   "id": "d7e4ba10",
   "metadata": {},
   "outputs": [
    {
     "data": {
      "text/plain": [
       "'$120k'"
      ]
     },
     "execution_count": 285,
     "metadata": {},
     "output_type": "execute_result"
    }
   ],
   "source": [
    "info.price"
   ]
  },
  {
   "cell_type": "code",
   "execution_count": 286,
   "id": "6861104a",
   "metadata": {},
   "outputs": [
    {
     "data": {
      "text/plain": [
       "3"
      ]
     },
     "execution_count": 286,
     "metadata": {},
     "output_type": "execute_result"
    }
   ],
   "source": [
    "info.number_of_rooms"
   ]
  },
  {
   "cell_type": "code",
   "execution_count": 287,
   "id": "6aea6ac3",
   "metadata": {},
   "outputs": [
    {
     "data": {
      "text/plain": [
       "('Mumbai', '$120k', 3)"
      ]
     },
     "execution_count": 287,
     "metadata": {},
     "output_type": "execute_result"
    }
   ],
   "source": [
    "info.get_details()"
   ]
  },
  {
   "cell_type": "code",
   "execution_count": null,
   "id": "dc3d2423",
   "metadata": {},
   "outputs": [],
   "source": []
  }
 ],
 "metadata": {
  "kernelspec": {
   "display_name": "Python 3 (ipykernel)",
   "language": "python",
   "name": "python3"
  },
  "language_info": {
   "codemirror_mode": {
    "name": "ipython",
    "version": 3
   },
   "file_extension": ".py",
   "mimetype": "text/x-python",
   "name": "python",
   "nbconvert_exporter": "python",
   "pygments_lexer": "ipython3",
   "version": "3.11.4"
  }
 },
 "nbformat": 4,
 "nbformat_minor": 5
}
